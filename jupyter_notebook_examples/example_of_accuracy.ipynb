{
 "cells": [
  {
   "cell_type": "code",
   "execution_count": 2,
   "id": "b640f86e",
   "metadata": {},
   "outputs": [],
   "source": [
    "%load_ext autoreload\n",
    "%autoreload 2"
   ]
  },
  {
   "cell_type": "code",
   "execution_count": 3,
   "id": "79676580",
   "metadata": {},
   "outputs": [],
   "source": [
    "import pandas as pd\n",
    "from random import seed, sample, randint\n",
    "import sys\n",
    "import numpy as np, numpy.random\n",
    "import math"
   ]
  },
  {
   "cell_type": "code",
   "execution_count": 4,
   "id": "60e655fb",
   "metadata": {},
   "outputs": [],
   "source": [
    "seed(1)"
   ]
  },
  {
   "cell_type": "code",
   "execution_count": 5,
   "id": "5d22067d",
   "metadata": {},
   "outputs": [],
   "source": [
    "sys.path.append('../metrics')"
   ]
  },
  {
   "cell_type": "markdown",
   "id": "23aedbe8",
   "metadata": {},
   "source": [
    "## Accuracy"
   ]
  },
  {
   "cell_type": "code",
   "execution_count": 6,
   "id": "ee432a70",
   "metadata": {},
   "outputs": [],
   "source": [
    "import accuracy as accuracy"
   ]
  },
  {
   "cell_type": "code",
   "execution_count": 7,
   "id": "a78c94f9",
   "metadata": {},
   "outputs": [],
   "source": [
    "# Data Preparation\n",
    "# Please note that all datasets are generated randomly. The metric results might be unreasonable.\n",
    "\n",
    "# Datasets for accuracy - binary labels\n",
    "accuracy_dataset_columns_continuous = {\n",
    "    \"id\": [sample(list(range(1000, 10000)), 1)[0] for _ in range(1000)],\n",
    "    \"labels\": [randint(1, 100) for _ in range(1000)],\n",
    "    \"golden_labels\": [randint(1, 100) for _ in range(1000)],\n",
    "    \"weight\": np.random.dirichlet(np.ones(1000),size=1).tolist()[0]}\n",
    "data = pd.DataFrame.from_dict(accuracy_dataset_columns_continuous) \n",
    "data[\"labels_binary\"] = data.apply(lambda x: \"1\" if x[\"labels\"] > 20 else \"0\", axis = 1)\n",
    "data[\"golden_labels_binary\"] = data.apply(lambda x: \"1\" if x[\"golden_labels\"] > 20 else \"0\", axis = 1)\n",
    "data[\"labels_category\"] = data.apply(lambda x: str(math.floor(x[\"labels\"]/25)),  axis = 1)\n",
    "data[\"golden_labels_category\"] = data.apply(lambda x: str(math.floor(x[\"golden_labels\"]/25)),  axis = 1)"
   ]
  },
  {
   "cell_type": "code",
   "execution_count": 8,
   "id": "6e093a98",
   "metadata": {},
   "outputs": [
    {
     "data": {
      "text/html": [
       "<div>\n",
       "<style scoped>\n",
       "    .dataframe tbody tr th:only-of-type {\n",
       "        vertical-align: middle;\n",
       "    }\n",
       "\n",
       "    .dataframe tbody tr th {\n",
       "        vertical-align: top;\n",
       "    }\n",
       "\n",
       "    .dataframe thead th {\n",
       "        text-align: right;\n",
       "    }\n",
       "</style>\n",
       "<table border=\"1\" class=\"dataframe\">\n",
       "  <thead>\n",
       "    <tr style=\"text-align: right;\">\n",
       "      <th></th>\n",
       "      <th>id</th>\n",
       "      <th>labels</th>\n",
       "      <th>golden_labels</th>\n",
       "      <th>weight</th>\n",
       "      <th>labels_binary</th>\n",
       "      <th>golden_labels_binary</th>\n",
       "      <th>labels_category</th>\n",
       "      <th>golden_labels_category</th>\n",
       "    </tr>\n",
       "  </thead>\n",
       "  <tbody>\n",
       "    <tr>\n",
       "      <th>0</th>\n",
       "      <td>3201</td>\n",
       "      <td>17</td>\n",
       "      <td>55</td>\n",
       "      <td>0.000500</td>\n",
       "      <td>0</td>\n",
       "      <td>1</td>\n",
       "      <td>0</td>\n",
       "      <td>2</td>\n",
       "    </tr>\n",
       "    <tr>\n",
       "      <th>1</th>\n",
       "      <td>2033</td>\n",
       "      <td>76</td>\n",
       "      <td>79</td>\n",
       "      <td>0.000479</td>\n",
       "      <td>1</td>\n",
       "      <td>1</td>\n",
       "      <td>3</td>\n",
       "      <td>3</td>\n",
       "    </tr>\n",
       "    <tr>\n",
       "      <th>2</th>\n",
       "      <td>5179</td>\n",
       "      <td>37</td>\n",
       "      <td>61</td>\n",
       "      <td>0.001977</td>\n",
       "      <td>1</td>\n",
       "      <td>1</td>\n",
       "      <td>1</td>\n",
       "      <td>2</td>\n",
       "    </tr>\n",
       "    <tr>\n",
       "      <th>3</th>\n",
       "      <td>2931</td>\n",
       "      <td>53</td>\n",
       "      <td>47</td>\n",
       "      <td>0.000478</td>\n",
       "      <td>1</td>\n",
       "      <td>1</td>\n",
       "      <td>2</td>\n",
       "      <td>1</td>\n",
       "    </tr>\n",
       "    <tr>\n",
       "      <th>4</th>\n",
       "      <td>9117</td>\n",
       "      <td>34</td>\n",
       "      <td>3</td>\n",
       "      <td>0.000225</td>\n",
       "      <td>1</td>\n",
       "      <td>0</td>\n",
       "      <td>1</td>\n",
       "      <td>0</td>\n",
       "    </tr>\n",
       "  </tbody>\n",
       "</table>\n",
       "</div>"
      ],
      "text/plain": [
       "     id  labels  golden_labels    weight labels_binary golden_labels_binary  \\\n",
       "0  3201      17             55  0.000500             0                    1   \n",
       "1  2033      76             79  0.000479             1                    1   \n",
       "2  5179      37             61  0.001977             1                    1   \n",
       "3  2931      53             47  0.000478             1                    1   \n",
       "4  9117      34              3  0.000225             1                    0   \n",
       "\n",
       "  labels_category golden_labels_category  \n",
       "0               0                      2  \n",
       "1               3                      3  \n",
       "2               1                      2  \n",
       "3               2                      1  \n",
       "4               1                      0  "
      ]
     },
     "execution_count": 8,
     "metadata": {},
     "output_type": "execute_result"
    }
   ],
   "source": [
    "data.head()"
   ]
  },
  {
   "cell_type": "markdown",
   "id": "ba6ee3b2",
   "metadata": {},
   "source": [
    "### Individual level ###\n",
    "- prec_recall_f1_report -> precision, recall, f1\n",
    "- get_continuous_accuracy_report -> KL-Divergence, RMSE\n",
    "- get_continuous_accuracy_plot"
   ]
  },
  {
   "cell_type": "code",
   "execution_count": 9,
   "id": "14eebfe5",
   "metadata": {},
   "outputs": [
    {
     "data": {
      "text/html": [
       "<div>\n",
       "<style scoped>\n",
       "    .dataframe tbody tr th:only-of-type {\n",
       "        vertical-align: middle;\n",
       "    }\n",
       "\n",
       "    .dataframe tbody tr th {\n",
       "        vertical-align: top;\n",
       "    }\n",
       "\n",
       "    .dataframe thead th {\n",
       "        text-align: right;\n",
       "    }\n",
       "</style>\n",
       "<table border=\"1\" class=\"dataframe\">\n",
       "  <thead>\n",
       "    <tr style=\"text-align: right;\">\n",
       "      <th></th>\n",
       "      <th>precision</th>\n",
       "      <th>recall</th>\n",
       "      <th>f1-score</th>\n",
       "      <th>support</th>\n",
       "    </tr>\n",
       "  </thead>\n",
       "  <tbody>\n",
       "    <tr>\n",
       "      <th>0</th>\n",
       "      <td>0.193237</td>\n",
       "      <td>0.211640</td>\n",
       "      <td>0.202020</td>\n",
       "      <td>0.189</td>\n",
       "    </tr>\n",
       "    <tr>\n",
       "      <th>1</th>\n",
       "      <td>0.812106</td>\n",
       "      <td>0.794081</td>\n",
       "      <td>0.802993</td>\n",
       "      <td>0.811</td>\n",
       "    </tr>\n",
       "    <tr>\n",
       "      <th>weighted average across classes by support</th>\n",
       "      <td>0.695140</td>\n",
       "      <td>0.684000</td>\n",
       "      <td>0.689409</td>\n",
       "      <td>NaN</td>\n",
       "    </tr>\n",
       "    <tr>\n",
       "      <th>macro (average across classes)</th>\n",
       "      <td>0.502671</td>\n",
       "      <td>0.502861</td>\n",
       "      <td>0.502506</td>\n",
       "      <td>NaN</td>\n",
       "    </tr>\n",
       "    <tr>\n",
       "      <th>micro (regardless of classes)</th>\n",
       "      <td>0.684000</td>\n",
       "      <td>0.684000</td>\n",
       "      <td>0.684000</td>\n",
       "      <td>NaN</td>\n",
       "    </tr>\n",
       "  </tbody>\n",
       "</table>\n",
       "</div>"
      ],
      "text/plain": [
       "                                            precision    recall  f1-score  \\\n",
       "0                                            0.193237  0.211640  0.202020   \n",
       "1                                            0.812106  0.794081  0.802993   \n",
       "weighted average across classes by support   0.695140  0.684000  0.689409   \n",
       "macro (average across classes)               0.502671  0.502861  0.502506   \n",
       "micro (regardless of classes)                0.684000  0.684000  0.684000   \n",
       "\n",
       "                                            support  \n",
       "0                                             0.189  \n",
       "1                                             0.811  \n",
       "weighted average across classes by support      NaN  \n",
       "macro (average across classes)                  NaN  \n",
       "micro (regardless of classes)                   NaN  "
      ]
     },
     "execution_count": 9,
     "metadata": {},
     "output_type": "execute_result"
    }
   ],
   "source": [
    "# unweighted\n",
    "accuracy.prec_recall_f1_report(\n",
    "    df=data,\n",
    "    labels_to_measure_column=\"labels_binary\",\n",
    "    golden_labels_column=\"golden_labels_binary\",\n",
    "    categorized_buckets=[\"0\", \"1\"],\n",
    ")"
   ]
  },
  {
   "cell_type": "code",
   "execution_count": 10,
   "id": "87e98a59",
   "metadata": {},
   "outputs": [
    {
     "data": {
      "text/html": [
       "<div>\n",
       "<style scoped>\n",
       "    .dataframe tbody tr th:only-of-type {\n",
       "        vertical-align: middle;\n",
       "    }\n",
       "\n",
       "    .dataframe tbody tr th {\n",
       "        vertical-align: top;\n",
       "    }\n",
       "\n",
       "    .dataframe thead th {\n",
       "        text-align: right;\n",
       "    }\n",
       "</style>\n",
       "<table border=\"1\" class=\"dataframe\">\n",
       "  <thead>\n",
       "    <tr style=\"text-align: right;\">\n",
       "      <th></th>\n",
       "      <th>accuracy_metric</th>\n",
       "    </tr>\n",
       "  </thead>\n",
       "  <tbody>\n",
       "    <tr>\n",
       "      <th>rmse</th>\n",
       "      <td>37.970982</td>\n",
       "    </tr>\n",
       "    <tr>\n",
       "      <th>hellinger_dist</th>\n",
       "      <td>0.241517</td>\n",
       "    </tr>\n",
       "  </tbody>\n",
       "</table>\n",
       "</div>"
      ],
      "text/plain": [
       "                accuracy_metric\n",
       "rmse                  37.970982\n",
       "hellinger_dist         0.241517"
      ]
     },
     "execution_count": 10,
     "metadata": {},
     "output_type": "execute_result"
    }
   ],
   "source": [
    "# weighted\n",
    "accuracy.get_continuous_accuracy_report(\n",
    "    df=data,\n",
    "    labels_to_measure_column=\"labels\",\n",
    "    golden_labels_column=\"golden_labels\",\n",
    "    bucket_endpoints=[1, 100, 1],\n",
    "    cdf_step_size=10,\n",
    "    weight_column=\"weight\",\n",
    "    sample_weighted=True,\n",
    ")"
   ]
  },
  {
   "cell_type": "code",
   "execution_count": 11,
   "id": "02a9a6e9",
   "metadata": {},
   "outputs": [
    {
     "name": "stderr",
     "output_type": "stream",
     "text": [
      "No artists with labels found to put in legend.  Note that artists whose label start with an underscore are ignored when legend() is called with no argument.\n",
      "/var/folders/nl/gxgzwfhn32v3kqc704f7f5s40000gn/T/ipykernel_62122/3153690527.py:8: UserWarning: Matplotlib is currently using module://matplotlib_inline.backend_inline, which is a non-GUI backend, so cannot show the figure.\n",
      "  fig_weighted.show()\n"
     ]
    },
    {
     "data": {
      "text/plain": [
       "<Figure size 1000x600 with 0 Axes>"
      ]
     },
     "metadata": {},
     "output_type": "display_data"
    },
    {
     "data": {
      "image/png": "[encoded data removed]",
      "text/plain": [
       "<Figure size 645.25x500 with 1 Axes>"
      ]
     },
     "metadata": {},
     "output_type": "display_data"
    }
   ],
   "source": [
    "fig_weighted = accuracy.get_continuous_accuracy_plot(\n",
    "    df=data,\n",
    "    labels_to_measure_column=\"labels\",\n",
    "    golden_labels_column=\"golden_labels\",\n",
    "    id_column = \"id\", \n",
    "    weight_column=\"weight\",\n",
    "    sample_weighted=True,)\n",
    "fig_weighted.show()"
   ]
  },
  {
   "cell_type": "markdown",
   "id": "4b85ca7e",
   "metadata": {},
   "source": [
    "### Aggregated level metrics ###\n",
    "- asmd -> ASMD\n",
    "- one_sample_ttest -> one smaple t test\n",
    "- two_sample_ttest -> two sample t test\n",
    "- chisquare_test -> chisquare test\n",
    "- get_aggregated_accuracy_report -> summary of above metrics \n",
    "\n",
    "Note: As to the two sample t test, we use the function statsmodels.stats.weightstats.ttest_ind to calculate the weighted metric, which requires to input frequency weight instead of normalization weight. Therefore, we help convert the normalization weight to frequency weight in our implementaiton. "
   ]
  },
  {
   "cell_type": "code",
   "execution_count": 12,
   "id": "276bd511",
   "metadata": {},
   "outputs": [
    {
     "name": "stdout",
     "output_type": "stream",
     "text": [
      "classes numbers do not match with golden mean size\n"
     ]
    }
   ],
   "source": [
    "# unweighted asmd\n",
    "asmd_unweighted = accuracy.asmd(df=data, labels_to_measure_column=\"labels_category\", golden_labels_column=\"golden_labels_category\", label_type =\"categorical\")\n",
    "one_sample_ttest_unweighted = accuracy.one_sample_ttest(df=data, true_mean=[\n",
    "            0.17,\n",
    "            0.36,\n",
    "            0.30,\n",
    "            0.16\n",
    "        ], labels_to_measure_column=\"labels_category\", label_type=\"categorical\")\n",
    "two_sample_ttest_unweighted = accuracy.two_sample_ttest(df=data, labels_to_measure_column=\"labels_category\", golden_labels_column=\"golden_labels_category\", label_type =\"categorical\")"
   ]
  },
  {
   "cell_type": "code",
   "execution_count": 13,
   "id": "8ded67bc",
   "metadata": {},
   "outputs": [
    {
     "name": "stdout",
     "output_type": "stream",
     "text": [
      "metric result of asmd_unweighted: [0.007065104240730037, 0.0541223210591239, 3.6632475808101014e-17, 0.03790490217894517, 0.05997170003479988]\n",
      "metric result of one_sample_ttest_unweighted: None\n",
      "metric result of two_sample_ttest_unweighted: [(0.1575578217329709, 0.8748211621856106), (-1.227953259758995, 0.2196091526990454), (0.0, 1.0), (0.8374357893586234, 0.4024478132521949), (1.15237276629691, 0.24931516083981567)]\n"
     ]
    }
   ],
   "source": [
    "print(f\"metric result of asmd_unweighted: {asmd_unweighted}\")\n",
    "print(f\"metric result of one_sample_ttest_unweighted: {one_sample_ttest_unweighted}\")\n",
    "print(f\"metric result of two_sample_ttest_unweighted: {two_sample_ttest_unweighted}\")"
   ]
  }
 ],
 "metadata": {
  "kernelspec": {
   "display_name": "Python 3 (ipykernel)",
   "language": "python",
   "name": "python3"
  },
  "language_info": {
   "codemirror_mode": {
    "name": "ipython",
    "version": 3
   },
   "file_extension": ".py",
   "mimetype": "text/x-python",
   "name": "python",
   "nbconvert_exporter": "python",
   "pygments_lexer": "ipython3",
   "version": "3.9.13"
  }
 },
 "nbformat": 4,
 "nbformat_minor": 5
}

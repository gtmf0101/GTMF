{
 "cells": [
  {
   "cell_type": "code",
   "execution_count": 11,
   "id": "5277e129",
   "metadata": {},
   "outputs": [],
   "source": [
    "# This notebook only shows how we use the representativity dimension. \n",
    "# It cannot be run locally since it is usually applied on large scale date and we implemented it by using SQL/Hive under the hood. \n",
    "# Most of APIs of this dimension expect the data are stored in database, not in DataFrame format. "
   ]
  },
  {
   "cell_type": "code",
   "execution_count": 3,
   "id": "a4cda1ff",
   "metadata": {},
   "outputs": [],
   "source": [
    "%load_ext autoreload\n",
    "%autoreload 2"
   ]
  },
  {
   "cell_type": "code",
   "execution_count": 4,
   "id": "50dcde2d",
   "metadata": {},
   "outputs": [],
   "source": [
    "import pandas as pd\n",
    "from random import seed, sample, randint\n",
    "import sys\n",
    "import numpy as np, numpy.random\n",
    "import math\n",
    "from collections import Counter"
   ]
  },
  {
   "cell_type": "code",
   "execution_count": 5,
   "id": "df5292b2",
   "metadata": {},
   "outputs": [],
   "source": [
    "sys.path.append('../metrics')"
   ]
  },
  {
   "cell_type": "markdown",
   "id": "aa31be9d",
   "metadata": {},
   "source": [
    "## Representativity"
   ]
  },
  {
   "cell_type": "code",
   "execution_count": 6,
   "id": "c71f7e15",
   "metadata": {},
   "outputs": [],
   "source": [
    "continuous_covars_dataset = [\n",
    "    {\"name\": \"var1\"},\n",
    "    {\"name\": \"var2\", \"quantile_literal\": [3, 12, 25, 28]},\n",
    "    {\"name\": \"var3\", \"quantile_percentile\": [0.1, 0.3, 0.5, 0.8], \"null_value\": \"-1.0\"},\n",
    "]"
   ]
  },
  {
   "cell_type": "code",
   "execution_count": 7,
   "id": "c2ca22a9",
   "metadata": {},
   "outputs": [],
   "source": [
    "continuous_covars = [x.get(\"name\") for x in continuous_covars_dataset]\n",
    "discrete_covars = [\"st\"]\n",
    "holdout_covar=\"score\"\n",
    "primary_key=\"id\""
   ]
  },
  {
   "cell_type": "code",
   "execution_count": null,
   "id": "679d2756",
   "metadata": {},
   "outputs": [],
   "source": [
    "population_quantiles = representativeness.get_population_quantiles(\n",
    "    population_data_hive_namespace=population_data_path_namespace,\n",
    "    population_data_hive_table = population_data_path_table,\n",
    "    primary_key=primary_key,\n",
    "    continuous_covars=continuous_covars,\n",
    "    continuous_covars_dataset=continuous_covars_dataset,\n",
    "    discrete_covars = discrete_covars,\n",
    "    holdout_covar=holdout_covar,"
   ]
  },
  {
   "cell_type": "code",
   "execution_count": null,
   "id": "968c50ec",
   "metadata": {},
   "outputs": [],
   "source": [
    "target_popn = representativeness.summarize_target_population(\n",
    "    population_quantiles, continuous_covars, discrete_covars, holdout_covar\n",
    ")"
   ]
  },
  {
   "cell_type": "code",
   "execution_count": null,
   "id": "da30c999",
   "metadata": {},
   "outputs": [],
   "source": [
    "sample_features = representativeness.get_sample_feature(\n",
    "    sample_data_path_namespace,\n",
    "    sample_data_path_tablename,\n",
    "    population_quantiles,\n",
    "    continuous_covars,\n",
    "    discrete_covars,\n",
    "    holdout_covar,\n",
    "    inclusive_columns_in_sample,\n",
    "    primary_key,\n",
    ")"
   ]
  },
  {
   "cell_type": "code",
   "execution_count": null,
   "id": "69a69cc7",
   "metadata": {},
   "outputs": [],
   "source": [
    "# get sample weight from external resource\n",
    "sample_weights = representativeness.weigh_sample_data_from_external_source(sample_feature, sample_with_weight_namespace,sample_with_weight_tablename, primary_key,)"
   ]
  },
  {
   "cell_type": "markdown",
   "id": "98813ef3",
   "metadata": {},
   "source": [
    "### Metric Calculation"
   ]
  },
  {
   "cell_type": "code",
   "execution_count": null,
   "id": "9adce071",
   "metadata": {},
   "outputs": [],
   "source": [
    "# design effect\n",
    "design_effect = representativeness.get_design_effect(sample_weights)"
   ]
  },
  {
   "cell_type": "code",
   "execution_count": null,
   "id": "4714d430",
   "metadata": {},
   "outputs": [],
   "source": [
    "# covariate balance and plots\n",
    "covariate_balance = representativeness.get_covariate_balance(target_popn, sample_weights, covars)\n",
    "covariate_balance_df = representativeness.get_covariate_balance_df(covariate_balance)"
   ]
  },
  {
   "cell_type": "code",
   "execution_count": null,
   "id": "f6c1b5cc",
   "metadata": {},
   "outputs": [],
   "source": [
    "representativeness.proportion_plot(covariate_balance_df, covars)"
   ]
  },
  {
   "cell_type": "code",
   "execution_count": null,
   "id": "5116c958",
   "metadata": {},
   "outputs": [],
   "source": [
    "# mau coverage\n",
    "coverage_cutoff = 0.5\n",
    "mau = representativeness.get_mau_coverage(covariate_balance, coverage_cutoff, target_popn, covars)"
   ]
  },
  {
   "cell_type": "code",
   "execution_count": null,
   "id": "ad6b7b5e",
   "metadata": {},
   "outputs": [],
   "source": [
    "# Hold-out covariate Representativity\n",
    "\n",
    "score_distn_df = representativeness.get_score_distn_df(target_popn, sample_weights, holdout_covar)"
   ]
  },
  {
   "cell_type": "code",
   "execution_count": null,
   "id": "57f88a71",
   "metadata": {},
   "outputs": [],
   "source": [
    "distn_plot = representativeness.gen_plot_distribution_of_hold_out(score_distn_df)"
   ]
  },
  {
   "cell_type": "code",
   "execution_count": null,
   "id": "6df5d668",
   "metadata": {},
   "outputs": [],
   "source": [
    "# hellinger distance\n",
    "\n",
    "hellinger_arguments = {\"name\": \"score\", \"min_value\": 0, \"max_value\": 1, \"step\": 0.02}\n",
    "hellinger_distance = representativeness.get_hellinger(target_popn, sample_weights, holdout_covar, hellinger_arguments)"
   ]
  },
  {
   "cell_type": "code",
   "execution_count": null,
   "id": "3a972377",
   "metadata": {},
   "outputs": [],
   "source": []
  }
 ],
 "metadata": {
  "kernelspec": {
   "display_name": "Python 3 (ipykernel)",
   "language": "python",
   "name": "python3"
  },
  "language_info": {
   "codemirror_mode": {
    "name": "ipython",
    "version": 3
   },
   "file_extension": ".py",
   "mimetype": "text/x-python",
   "name": "python",
   "nbconvert_exporter": "python",
   "pygments_lexer": "ipython3",
   "version": "3.9.13"
  }
 },
 "nbformat": 4,
 "nbformat_minor": 5
}

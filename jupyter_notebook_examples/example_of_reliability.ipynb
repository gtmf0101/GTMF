{
 "cells": [
  {
   "cell_type": "code",
   "execution_count": 2,
   "id": "141c9085",
   "metadata": {},
   "outputs": [],
   "source": [
    "%load_ext autoreload\n",
    "%autoreload 2"
   ]
  },
  {
   "cell_type": "code",
   "execution_count": 3,
   "id": "9b722d64",
   "metadata": {},
   "outputs": [],
   "source": [
    "import pandas as pd\n",
    "from random import seed, sample, randint\n",
    "import sys\n",
    "import numpy as np, numpy.random\n",
    "import math\n",
    "from collections import Counter"
   ]
  },
  {
   "cell_type": "code",
   "execution_count": 4,
   "id": "c4358646",
   "metadata": {},
   "outputs": [],
   "source": [
    "seed(1)"
   ]
  },
  {
   "cell_type": "code",
   "execution_count": 5,
   "id": "282babc3",
   "metadata": {},
   "outputs": [],
   "source": [
    "sys.path.append('../metrics')"
   ]
  },
  {
   "cell_type": "markdown",
   "id": "0ca0202c",
   "metadata": {},
   "source": [
    "## Reliability"
   ]
  },
  {
   "cell_type": "code",
   "execution_count": 6,
   "id": "eb4b1f93",
   "metadata": {},
   "outputs": [],
   "source": [
    "# Data Preparation\n",
    "# Please note that all datasets are generated randomly. The metric results might be unreasonable.\n",
    "\n",
    "# Datasets for reliability\n",
    "reliability_dataset_columns = {\n",
    "    \"job_id\": [sample(list(range(1000, 10000)), 1)[0] for _ in range(1000)],\n",
    "    \"labeler_ids\": [sample(list(range(10000, 100000)), 1)[0] for _ in range(1000)],\n",
    "    \"labeler_type\": [sample([\"L1\", \"L2\"], 1)[0] for _ in range(1000)],\n",
    "    \"decision\": [sample([1, 0], 1)[0] for _ in range(1000)],\n",
    "}\n",
    "\n",
    "labels_all = pd.DataFrame.from_dict(reliability_dataset_columns)\n",
    "\n",
    "two_labelers_dataset_columns = {\n",
    "    \"job_id\": list(range(1000, 1500)) + list(range(1000, 1500)),\n",
    "    \"d1\": [sample([1, 0], 1)[0] for _ in range(1000)],\n",
    "    \"d2\": [sample([1, 0], 1)[0] for _ in range(1000)],\n",
    "}\n",
    "two_labelers = pd.DataFrame.from_dict(two_labelers_dataset_columns)"
   ]
  },
  {
   "cell_type": "code",
   "execution_count": 7,
   "id": "28a30fb6",
   "metadata": {},
   "outputs": [
    {
     "data": {
      "text/html": [
       "<div>\n",
       "<style scoped>\n",
       "    .dataframe tbody tr th:only-of-type {\n",
       "        vertical-align: middle;\n",
       "    }\n",
       "\n",
       "    .dataframe tbody tr th {\n",
       "        vertical-align: top;\n",
       "    }\n",
       "\n",
       "    .dataframe thead th {\n",
       "        text-align: right;\n",
       "    }\n",
       "</style>\n",
       "<table border=\"1\" class=\"dataframe\">\n",
       "  <thead>\n",
       "    <tr style=\"text-align: right;\">\n",
       "      <th></th>\n",
       "      <th>job_id</th>\n",
       "      <th>labeler_ids</th>\n",
       "      <th>labeler_type</th>\n",
       "      <th>decision</th>\n",
       "    </tr>\n",
       "  </thead>\n",
       "  <tbody>\n",
       "    <tr>\n",
       "      <th>0</th>\n",
       "      <td>3201</td>\n",
       "      <td>26661</td>\n",
       "      <td>L1</td>\n",
       "      <td>0</td>\n",
       "    </tr>\n",
       "    <tr>\n",
       "      <th>1</th>\n",
       "      <td>2033</td>\n",
       "      <td>87277</td>\n",
       "      <td>L2</td>\n",
       "      <td>1</td>\n",
       "    </tr>\n",
       "    <tr>\n",
       "      <th>2</th>\n",
       "      <td>5179</td>\n",
       "      <td>47636</td>\n",
       "      <td>L2</td>\n",
       "      <td>1</td>\n",
       "    </tr>\n",
       "    <tr>\n",
       "      <th>3</th>\n",
       "      <td>2931</td>\n",
       "      <td>64121</td>\n",
       "      <td>L1</td>\n",
       "      <td>1</td>\n",
       "    </tr>\n",
       "    <tr>\n",
       "      <th>4</th>\n",
       "      <td>9117</td>\n",
       "      <td>43806</td>\n",
       "      <td>L1</td>\n",
       "      <td>0</td>\n",
       "    </tr>\n",
       "  </tbody>\n",
       "</table>\n",
       "</div>"
      ],
      "text/plain": [
       "   job_id  labeler_ids labeler_type  decision\n",
       "0    3201        26661           L1         0\n",
       "1    2033        87277           L2         1\n",
       "2    5179        47636           L2         1\n",
       "3    2931        64121           L1         1\n",
       "4    9117        43806           L1         0"
      ]
     },
     "execution_count": 7,
     "metadata": {},
     "output_type": "execute_result"
    }
   ],
   "source": [
    "labels_all.head()"
   ]
  },
  {
   "cell_type": "code",
   "execution_count": 8,
   "id": "d2bc2725",
   "metadata": {},
   "outputs": [
    {
     "data": {
      "text/html": [
       "<div>\n",
       "<style scoped>\n",
       "    .dataframe tbody tr th:only-of-type {\n",
       "        vertical-align: middle;\n",
       "    }\n",
       "\n",
       "    .dataframe tbody tr th {\n",
       "        vertical-align: top;\n",
       "    }\n",
       "\n",
       "    .dataframe thead th {\n",
       "        text-align: right;\n",
       "    }\n",
       "</style>\n",
       "<table border=\"1\" class=\"dataframe\">\n",
       "  <thead>\n",
       "    <tr style=\"text-align: right;\">\n",
       "      <th></th>\n",
       "      <th>job_id</th>\n",
       "      <th>d1</th>\n",
       "      <th>d2</th>\n",
       "    </tr>\n",
       "  </thead>\n",
       "  <tbody>\n",
       "    <tr>\n",
       "      <th>0</th>\n",
       "      <td>1000</td>\n",
       "      <td>0</td>\n",
       "      <td>0</td>\n",
       "    </tr>\n",
       "    <tr>\n",
       "      <th>1</th>\n",
       "      <td>1001</td>\n",
       "      <td>1</td>\n",
       "      <td>0</td>\n",
       "    </tr>\n",
       "    <tr>\n",
       "      <th>2</th>\n",
       "      <td>1002</td>\n",
       "      <td>0</td>\n",
       "      <td>0</td>\n",
       "    </tr>\n",
       "    <tr>\n",
       "      <th>3</th>\n",
       "      <td>1003</td>\n",
       "      <td>0</td>\n",
       "      <td>1</td>\n",
       "    </tr>\n",
       "    <tr>\n",
       "      <th>4</th>\n",
       "      <td>1004</td>\n",
       "      <td>1</td>\n",
       "      <td>1</td>\n",
       "    </tr>\n",
       "  </tbody>\n",
       "</table>\n",
       "</div>"
      ],
      "text/plain": [
       "   job_id  d1  d2\n",
       "0    1000   0   0\n",
       "1    1001   1   0\n",
       "2    1002   0   0\n",
       "3    1003   0   1\n",
       "4    1004   1   1"
      ]
     },
     "execution_count": 8,
     "metadata": {},
     "output_type": "execute_result"
    }
   ],
   "source": [
    "two_labelers.head()"
   ]
  },
  {
   "cell_type": "code",
   "execution_count": 9,
   "id": "1d97aaab",
   "metadata": {},
   "outputs": [],
   "source": [
    "import reliability as reliability"
   ]
  },
  {
   "cell_type": "markdown",
   "id": "a6903e59",
   "metadata": {},
   "source": [
    "## examples for general metrics and multiple labeler metrics\n",
    "### --- Basic metrics --- #\n",
    "- Job agreement rate\n",
    "- Annotator agreement rate\n",
    "\n",
    "### --- Multi-annotator metrics --- #\n",
    "- Fleiss’s κ\n",
    "- Krippendorff's α"
   ]
  },
  {
   "cell_type": "code",
   "execution_count": 10,
   "id": "87dc58cd",
   "metadata": {},
   "outputs": [
    {
     "data": {
      "text/plain": [
       "0.9768664563617245"
      ]
     },
     "execution_count": 10,
     "metadata": {},
     "output_type": "execute_result"
    }
   ],
   "source": [
    "#Job agreement rate\n",
    "reliability.job_agreement_rate(table = labels_all, job=\"job_id\", decision=\"decision\")"
   ]
  },
  {
   "cell_type": "code",
   "execution_count": 11,
   "id": "2b5b6636",
   "metadata": {},
   "outputs": [
    {
     "data": {
      "text/plain": [
       "0.5192307692307693"
      ]
     },
     "execution_count": 11,
     "metadata": {},
     "output_type": "execute_result"
    }
   ],
   "source": [
    "#Annotator agreement rate\n",
    "reliability.annotator_agreement_rate(table = labels_all, job=\"job_id\", decision=\"decision\")"
   ]
  },
  {
   "cell_type": "code",
   "execution_count": 12,
   "id": "c0806cd5",
   "metadata": {},
   "outputs": [
    {
     "data": {
      "text/plain": [
       "0.10856519367157673"
      ]
     },
     "execution_count": 12,
     "metadata": {},
     "output_type": "execute_result"
    }
   ],
   "source": [
    "# Fleiss’s κ\n",
    "reliability.fleiss_kappa_shadow(table = labels_all, job=\"job_id\", decision=\"decision\", annotator=\"labeler_ids\", annotator_num=2)"
   ]
  },
  {
   "cell_type": "code",
   "execution_count": 13,
   "id": "654213b5",
   "metadata": {},
   "outputs": [
    {
     "data": {
      "text/plain": [
       "0.07097933513027843"
      ]
     },
     "execution_count": 13,
     "metadata": {},
     "output_type": "execute_result"
    }
   ],
   "source": [
    "# Krippendorff's α\n",
    "reliability.calculate_krippendorffs_alpha(\n",
    "    table=labels_all, job=\"job_id\", decision=\"decision\", annotator=\"labeler_ids\", metric_fn=\"nominal\"\n",
    ")"
   ]
  },
  {
   "cell_type": "markdown",
   "id": "ca0a74ed",
   "metadata": {},
   "source": [
    "## examples for metrics on two-labeler jobs\n",
    "- Cohen’s κ  -- used for both ordinal and nominal labels.\n",
    "- Kendall’s τ -- only be used for ordinal/continuous labels.\n",
    "- Spearman’s ρ -- only be used for ordinal/continuous labels."
   ]
  },
  {
   "cell_type": "code",
   "execution_count": 14,
   "id": "a8528809",
   "metadata": {},
   "outputs": [
    {
     "data": {
      "text/plain": [
       "-0.03467046646226768"
      ]
     },
     "execution_count": 14,
     "metadata": {},
     "output_type": "execute_result"
    }
   ],
   "source": [
    "reliability.cohen_kappa(table=two_labelers, decision1=\"d1\", decision2=\"d2\")"
   ]
  },
  {
   "cell_type": "code",
   "execution_count": 15,
   "id": "a1592c20",
   "metadata": {},
   "outputs": [
    {
     "data": {
      "text/plain": [
       "KendalltauResult(correlation=-0.034676091732800673, pvalue=0.27307619776448167)"
      ]
     },
     "execution_count": 15,
     "metadata": {},
     "output_type": "execute_result"
    }
   ],
   "source": [
    "#to apply kendall's, decisions should be numeric\n",
    "reliability.kendall_tau(table=two_labelers, decision1=\"d1\", decision2=\"d2\")"
   ]
  },
  {
   "cell_type": "code",
   "execution_count": 16,
   "id": "d40842b4",
   "metadata": {},
   "outputs": [
    {
     "data": {
      "text/plain": [
       "SpearmanrResult(correlation=-0.034676091732800673, pvalue=0.27329226724724953)"
      ]
     },
     "execution_count": 16,
     "metadata": {},
     "output_type": "execute_result"
    }
   ],
   "source": [
    "#to apply kendall's, decisions should be numeric\n",
    "reliability.spearman_rho(table=two_labelers, decision1=\"d1\", decision2=\"d2\")"
   ]
  },
  {
   "cell_type": "markdown",
   "id": "b8b3dbb9",
   "metadata": {},
   "source": [
    "### 2.3 Multi-annotator metrics:\n",
    "* **Fleiss’s $\\kappa$**"
   ]
  },
  {
   "cell_type": "code",
   "execution_count": 17,
   "id": "d6a42e45",
   "metadata": {},
   "outputs": [],
   "source": [
    "## Get job ids for jobs with double-review\n",
    "count_num_decisions=Counter(labels_all.job_id)\n",
    "job_id_with_double_review=np.array(list(count_num_decisions.keys()))[[item == 2 for item in count_num_decisions.values()]]"
   ]
  },
  {
   "cell_type": "code",
   "execution_count": 18,
   "id": "ad937563",
   "metadata": {},
   "outputs": [],
   "source": [
    "## Keep only jobs with double-review\n",
    "label_all_job_with_double_review = labels_all.iloc[[item in job_id_with_double_review for item in labels_all.job_id]]"
   ]
  },
  {
   "cell_type": "code",
   "execution_count": 19,
   "id": "5c33b126",
   "metadata": {},
   "outputs": [
    {
     "data": {
      "text/plain": [
       "0.10856519367157673"
      ]
     },
     "execution_count": 19,
     "metadata": {},
     "output_type": "execute_result"
    }
   ],
   "source": [
    "# fleiss's only expects the jobs with double-review\n",
    "reliability.fleiss_kappa_shadow(labels_all, \"job_id\", \"decision\", \"labeler_ids\")"
   ]
  },
  {
   "cell_type": "code",
   "execution_count": 20,
   "id": "20ac81f8",
   "metadata": {},
   "outputs": [
    {
     "data": {
      "text/plain": [
       "0.07097933513027843"
      ]
     },
     "execution_count": 20,
     "metadata": {},
     "output_type": "execute_result"
    }
   ],
   "source": [
    "## According to the guideline on wikipedia, 0.87 (>0.80) is a strong sign of reliable decision data.\n",
    "reliability.calculate_krippendorffs_alpha(labels_all, \"job_id\", \"decision\", \"labeler_ids\")"
   ]
  },
  {
   "cell_type": "code",
   "execution_count": null,
   "id": "bd20aeae",
   "metadata": {},
   "outputs": [],
   "source": []
  }
 ],
 "metadata": {
  "kernelspec": {
   "display_name": "Python 3 (ipykernel)",
   "language": "python",
   "name": "python3"
  },
  "language_info": {
   "codemirror_mode": {
    "name": "ipython",
    "version": 3
   },
   "file_extension": ".py",
   "mimetype": "text/x-python",
   "name": "python",
   "nbconvert_exporter": "python",
   "pygments_lexer": "ipython3",
   "version": "3.9.13"
  }
 },
 "nbformat": 4,
 "nbformat_minor": 5
}
